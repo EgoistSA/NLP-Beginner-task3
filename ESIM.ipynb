version https://git-lfs.github.com/spec/v1
oid sha256:b07328b57f0fc3ae82817a7ebf143b09bd6e0e52d2e64cd10667b5e22d706c42
size 22172
